{
 "cells": [
  {
   "cell_type": "code",
   "execution_count": 5,
   "metadata": {},
   "outputs": [
    {
     "name": "stdout",
     "output_type": "stream",
     "text": [
      "C:\\Users\\c\\Desktop\\tomo\\exp\\task\\head\\geo\n"
     ]
    }
   ],
   "source": [
    "import numpy as np\n",
    "import os\n",
    "import math\n",
    "os.chdir('C:/Users/c/Desktop/tomo/exp/task/head/geo')\n",
    "print(os.getcwd())\n",
    "def gen_circle(z_tube,z_det,radius,num_view):\n",
    "    a = 0\n",
    "    da = 2*math.pi/num_view\n",
    "    tubes = []\n",
    "    dets = []\n",
    "    for i in range(num_view):\n",
    "        x_tube = radius*math.cos(a)\n",
    "        y_tube = radius*math.sin(a)\n",
    "        x_det = x_tube*z_det/z_tube\n",
    "        y_det = y_tube*z_det/z_tube\n",
    "        tubes.append((x_tube,y_tube,z_tube))\n",
    "        dets.append((x_det,y_det,z_det))\n",
    "        a += da\n",
    "    with open('circle%d_%d.in'%(radius,num_view),'w') as f: \n",
    "        f.write('%d\\n'%num_view)\n",
    "        for x,y,z in tubes:\n",
    "            f.write('%f %f %f\\n'%(x,y,z))\n",
    "        for x,y,z in dets:\n",
    "            f.write('%f %f %f\\n'%(x,y,z))"
   ]
  },
  {
   "cell_type": "code",
   "execution_count": 4,
   "metadata": {},
   "outputs": [],
   "source": [
    "gen_circle(450,-450,300,30)"
   ]
  },
  {
   "cell_type": "code",
   "execution_count": null,
   "metadata": {},
   "outputs": [],
   "source": []
  }
 ],
 "metadata": {
  "kernelspec": {
   "display_name": "Python 3",
   "language": "python",
   "name": "python3"
  },
  "language_info": {
   "codemirror_mode": {
    "name": "ipython",
    "version": 3
   },
   "file_extension": ".py",
   "mimetype": "text/x-python",
   "name": "python",
   "nbconvert_exporter": "python",
   "pygments_lexer": "ipython3",
   "version": "3.8.5"
  }
 },
 "nbformat": 4,
 "nbformat_minor": 4
}
