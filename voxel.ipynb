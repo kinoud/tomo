{
 "cells": [
  {
   "cell_type": "code",
   "execution_count": 4,
   "metadata": {},
   "outputs": [],
   "source": [
    "import numpy as np\n",
    "import matplotlib.pyplot as plt\n",
    "from phantominator import shepp_logan\n",
    "def permutate(fin,shape,per=(2,0,1),prefix='k_first'):\n",
    "    fout = '/'.join(fin.split('/')[0:-1]+['(%s)'%prefix+fin.split('/')[-1]])\n",
    "    a = np.fromfile(fin,dtype='uint16').reshape(shape).transpose(per)\n",
    "    a.tofile(fout)"
   ]
  },
  {
   "cell_type": "code",
   "execution_count": null,
   "metadata": {},
   "outputs": [],
   "source": [
    "M,N,L = 400,400,400\n",
    "p = shepp_logan((M,N,L))\n",
    "a = (np.maximum(p,0)*(256*256-1)).astype('uint16')\n",
    "print(a.min(),a.max())\n",
    "a.tofile('shepp_logan_%dx%dx%d_uint16.raw'%(M,N,L))"
   ]
  },
  {
   "cell_type": "code",
   "execution_count": 24,
   "metadata": {},
   "outputs": [],
   "source": [
    "permutate('exp/vox/siddon/head_circle(sart_ro_164_1.0_20).rec.raw',(400,400,164),per=(2,0,1),prefix='k_first')"
   ]
  },
  {
   "cell_type": "code",
   "execution_count": 9,
   "metadata": {},
   "outputs": [],
   "source": [
    "a = np.fromfile('exp/vox/(k_first)head_400x400x328.raw',dtype='uint16').reshape(328,400,400)"
   ]
  },
  {
   "cell_type": "code",
   "execution_count": 12,
   "metadata": {},
   "outputs": [],
   "source": [
    "a = a.astype('float')"
   ]
  },
  {
   "cell_type": "code",
   "execution_count": 16,
   "metadata": {},
   "outputs": [],
   "source": [
    "b = np.zeros((41,400,400))\n",
    "for i in range(41):\n",
    "    b[i,:,:] = a[i*8:i*8+4,:,:].mean(axis=0)"
   ]
  },
  {
   "cell_type": "code",
   "execution_count": 21,
   "metadata": {},
   "outputs": [],
   "source": [
    "b = b.astype('uint16')\n",
    "b.tofile('(k_first)head_400x400x41.raw')"
   ]
  },
  {
   "cell_type": "code",
   "execution_count": null,
   "metadata": {},
   "outputs": [],
   "source": [
    "np.max(b)"
   ]
  }
 ],
 "metadata": {
  "kernelspec": {
   "display_name": "Python 3",
   "language": "python",
   "name": "python3"
  },
  "language_info": {
   "codemirror_mode": {
    "name": "ipython",
    "version": 3
   },
   "file_extension": ".py",
   "mimetype": "text/x-python",
   "name": "python",
   "nbconvert_exporter": "python",
   "pygments_lexer": "ipython3",
   "version": "3.8.5"
  }
 },
 "nbformat": 4,
 "nbformat_minor": 4
}
