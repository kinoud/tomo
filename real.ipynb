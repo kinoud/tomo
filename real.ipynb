{
 "cells": [
  {
   "cell_type": "code",
   "execution_count": 2,
   "metadata": {},
   "outputs": [
    {
     "name": "stdout",
     "output_type": "stream",
     "text": [
      "C:\\Users\\c\\Desktop\\tomo\\exp\\task\\real1\n"
     ]
    }
   ],
   "source": [
    "import numpy as np\n",
    "import os\n",
    "import matplotlib.pyplot as plt\n",
    "os.chdir('C:/Users/c/Desktop/tomo/exp/task/real1')\n",
    "print(os.getcwd())\n",
    "%matplotlib inline"
   ]
  },
  {
   "cell_type": "code",
   "execution_count": 26,
   "metadata": {
    "scrolled": true
   },
   "outputs": [],
   "source": [
    "def preproc(i):\n",
    "    img = 'proj/圆锥 (%d).raw'%i\n",
    "    a=np.fromfile(img,dtype='uint16').reshape((2816,2816))\n",
    "#     plt.figure(figsize=(15,20))\n",
    "#     plt.subplot(1,3,1)\n",
    "#     plt.imshow(a,cmap='gray')\n",
    "    a=np.rot90(a,1)\n",
    "#     plt.subplot(1,3,2)\n",
    "#     plt.imshow(a,cmap='gray')\n",
    "    mg = 6\n",
    "    a=a[mg:a.shape[0]-mg,mg:a.shape[1]-mg]\n",
    "#     print(np.min(a),'-',np.max(a))\n",
    "    a=-np.log(a+1)\n",
    "    low,high = np.min(a),np.max(a)\n",
    "    a=50000*(a-low)/(high-low)\n",
    "#     plt.subplot(1,3,3)\n",
    "#     plt.imshow(a,cmap='gray')\n",
    "#     plt.show()\n",
    "    a=a.astype('uint32')\n",
    "    a.tofile('proj/projectImage%d.raw'%i)\n",
    "for i in range(36):\n",
    "    preproc(i+1)"
   ]
  },
  {
   "cell_type": "code",
   "execution_count": null,
   "metadata": {},
   "outputs": [],
   "source": []
  }
 ],
 "metadata": {
  "kernelspec": {
   "display_name": "Python 3",
   "language": "python",
   "name": "python3"
  },
  "language_info": {
   "codemirror_mode": {
    "name": "ipython",
    "version": 3
   },
   "file_extension": ".py",
   "mimetype": "text/x-python",
   "name": "python",
   "nbconvert_exporter": "python",
   "pygments_lexer": "ipython3",
   "version": "3.8.5"
  }
 },
 "nbformat": 4,
 "nbformat_minor": 4
}
