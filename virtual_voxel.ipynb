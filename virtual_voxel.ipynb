{
 "cells": [
  {
   "cell_type": "code",
   "execution_count": 1,
   "metadata": {},
   "outputs": [],
   "source": [
    "import numpy as np\n",
    "import matplotlib.pyplot as plt\n",
    "from phantominator import shepp_logan\n",
    "M,N,L = 400,400,400\n",
    "p = shepp_logan((M,N,L))"
   ]
  },
  {
   "cell_type": "code",
   "execution_count": 2,
   "metadata": {},
   "outputs": [
    {
     "name": "stdout",
     "output_type": "stream",
     "text": [
      "0 65535\n"
     ]
    }
   ],
   "source": [
    "a = (np.maximum(p,0)*(256*256-1)).astype('uint16')\n",
    "print(a.min(),a.max())\n",
    "a.tofile('shepp_logan_%dx%dx%d_uint16.raw'%(M,N,L))"
   ]
  },
  {
   "cell_type": "code",
   "execution_count": 8,
   "metadata": {},
   "outputs": [],
   "source": [
    "import numpy as np\n",
    "def k_first(fin,shape):\n",
    "    fout = '/'.join(fin.split('/')[0:-1]+['(k_first)'+fin.split('/')[-1]])\n",
    "    a = np.fromfile(fin,dtype='uint16').reshape(shape).transpose((2,0,1))\n",
    "    a.tofile(fout)"
   ]
  },
  {
   "cell_type": "code",
   "execution_count": 17,
   "metadata": {},
   "outputs": [],
   "source": [
    "k_first('exp/vox/shepp_logan(mlem_400x400x100_30).rec.raw',(400,400,100))"
   ]
  },
  {
   "cell_type": "code",
   "execution_count": null,
   "metadata": {},
   "outputs": [],
   "source": []
  }
 ],
 "metadata": {
  "kernelspec": {
   "display_name": "Python 3",
   "language": "python",
   "name": "python3"
  },
  "language_info": {
   "codemirror_mode": {
    "name": "ipython",
    "version": 3
   },
   "file_extension": ".py",
   "mimetype": "text/x-python",
   "name": "python",
   "nbconvert_exporter": "python",
   "pygments_lexer": "ipython3",
   "version": "3.8.5"
  }
 },
 "nbformat": 4,
 "nbformat_minor": 4
}
